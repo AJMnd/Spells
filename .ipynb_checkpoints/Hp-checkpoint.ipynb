{
 "cells": [
  {
   "cell_type": "code",
   "execution_count": 1,
   "id": "b9ac0185",
   "metadata": {},
   "outputs": [],
   "source": [
    "import pandas as pd\n",
    "from PyPDF2 import PdfFileReader, PdfFileWriter\n",
    "import os\n",
    "from pathlib import Path"
   ]
  },
  {
   "cell_type": "code",
   "execution_count": 2,
   "id": "33437aab",
   "metadata": {},
   "outputs": [],
   "source": [
    "# Create pdf file reader object\n",
    "file_path =\"Resources/potter2.pdf\"\n",
    "pdf = PdfFileReader(file_path)"
   ]
  },
  {
   "cell_type": "code",
   "execution_count": 3,
   "id": "da5cbd17",
   "metadata": {},
   "outputs": [
    {
     "name": "stdout",
     "output_type": "stream",
     "text": [
      "{'/Type': '/Page', '/Parent': IndirectObject(5, 0, 1533745129736), '/Resources': IndirectObject(652, 0, 1533745129736), '/Contents': IndirectObject(650, 0, 1533745129736), '/MediaBox': [0, 0, 612, 792]}\n"
     ]
    }
   ],
   "source": [
    "# two steps to extract text\n",
    "# Step 1: Grab the page(s)\n",
    "pg_1_ob = pdf.getPage(0)\n",
    "print(pg_1_ob)"
   ]
  },
  {
   "cell_type": "code",
   "execution_count": 4,
   "id": "11d6067b",
   "metadata": {},
   "outputs": [
    {
     "name": "stdout",
     "output_type": "stream",
     "text": [
      "Rev. 03/01/02 (Buff)Rev. 03/14/02 (Salmon)Rev. 04/02/02 (Cherry)Rev. 04/02/02 (Tan)    (not distributed)Rev. 04/03/02 (2nd White)Rev. 04/03/02 (2nd Blue)Rev. 04/09/02 (2nd Pink)Rev. 04/16/02 (2nd Yellow)Rev. 04/17/02 (2nd Green)Rev. 05/14/02 (2nd Gold)  HARRY PO TTER ANDTHE CHAMBER OF SECRETSscreenplay by STEVEN KLOVESbased on the novel byJ.K. ROWLING\n",
      "No portion of this script may be performed, reproduced,or used by any means, or quoted or published in anymedium without the prior written consent of Warner Bros.WARNER BROS.© 20024000 Warner BoulevardWARNER BROS.Burbank,  California  91522All Rights Reserved\n"
     ]
    }
   ],
   "source": [
    "# Step 2: Extract Text\n",
    "pg_1_txt = pg_1_ob.extractText()\n",
    "print(pg_1_txt)"
   ]
  },
  {
   "cell_type": "code",
   "execution_count": 5,
   "id": "a1f9955e",
   "metadata": {},
   "outputs": [],
   "source": [
    "# Combine the text from all of the pages and save as a txt file\n",
    "with Path(\"potter2.txt\").open(mode=\"w\") as output_file:\n",
    "    text = ''\n",
    "    for page in pdf.pages:\n",
    "        text += page.extractText()\n",
    "    output_file.write(text)"
   ]
  },
  {
   "cell_type": "code",
   "execution_count": 6,
   "id": "9a27655b",
   "metadata": {},
   "outputs": [
    {
     "name": "stdout",
     "output_type": "stream",
     "text": [
      "[[0, 0, 612, 792], [0, 0, 612, 792], [0, 0, 612, 792], [0, 0, 612, 792], [0, 0, 612, 792], [0, 0, 612, 792], [0, 0, 612, 792], [0, 0, 612, 792], [0, 0, 612, 792], [0, 0, 612, 792], [0, 0, 612, 792]]\n"
     ]
    }
   ],
   "source": [
    "# Where are the spells?\n",
    "spells_pages = []\n",
    "for page in pdf.pages:\n",
    "    page_num = page['/MediaBox'] #if you want to see the actual page number +1\n",
    "    page_text = page.extractText()\n",
    "    \n",
    "    if 'spell' in page_text: # page_text.find('spell') for index position of spell\n",
    "        spells_pages.append(page_num)\n",
    "        \n",
    "print(spells_pages)"
   ]
  },
  {
   "cell_type": "code",
   "execution_count": 27,
   "id": "3fb68c65",
   "metadata": {},
   "outputs": [
    {
     "ename": "TypeError",
     "evalue": "list indices must be integers or slices, not ArrayObject",
     "output_type": "error",
     "traceback": [
      "\u001b[1;31m---------------------------------------------------------------------------\u001b[0m",
      "\u001b[1;31mTypeError\u001b[0m                                 Traceback (most recent call last)",
      "\u001b[1;32m~\\AppData\\Local\\Temp\\ipykernel_31612\\352877320.py\u001b[0m in \u001b[0;36m<module>\u001b[1;34m\u001b[0m\n\u001b[0;32m      6\u001b[0m \u001b[1;31m# Get the text from pages with spells\u001b[0m\u001b[1;33m\u001b[0m\u001b[1;33m\u001b[0m\u001b[1;33m\u001b[0m\u001b[0m\n\u001b[0;32m      7\u001b[0m \u001b[1;32mfor\u001b[0m \u001b[0mpage\u001b[0m \u001b[1;32min\u001b[0m \u001b[0mspells_pages\u001b[0m\u001b[1;33m:\u001b[0m\u001b[1;33m\u001b[0m\u001b[1;33m\u001b[0m\u001b[0m\n\u001b[1;32m----> 8\u001b[1;33m     \u001b[0mpage_oj\u001b[0m \u001b[1;33m=\u001b[0m \u001b[0minput_pdf\u001b[0m\u001b[1;33m.\u001b[0m\u001b[0mgetPage\u001b[0m\u001b[1;33m(\u001b[0m\u001b[0mpage\u001b[0m\u001b[1;33m)\u001b[0m\u001b[1;33m\u001b[0m\u001b[1;33m\u001b[0m\u001b[0m\n\u001b[0m\u001b[0;32m      9\u001b[0m     \u001b[0mpdf_writer\u001b[0m\u001b[1;33m.\u001b[0m\u001b[0maddPage\u001b[0m\u001b[1;33m(\u001b[0m\u001b[0mpage_oj\u001b[0m\u001b[1;33m)\u001b[0m\u001b[1;33m\u001b[0m\u001b[1;33m\u001b[0m\u001b[0m\n\u001b[0;32m     10\u001b[0m \u001b[1;33m\u001b[0m\u001b[0m\n",
      "\u001b[1;32m~\\anaconda3\\envs\\mlenv\\lib\\site-packages\\PyPDF2\\_reader.py\u001b[0m in \u001b[0;36mgetPage\u001b[1;34m(self, pageNumber)\u001b[0m\n\u001b[0;32m    475\u001b[0m             \u001b[1;34m\"reader.getPage(pageNumber)\"\u001b[0m\u001b[1;33m,\u001b[0m \u001b[1;34m\"reader.pages[pageNumber]\"\u001b[0m\u001b[1;33m\u001b[0m\u001b[1;33m\u001b[0m\u001b[0m\n\u001b[0;32m    476\u001b[0m         )\n\u001b[1;32m--> 477\u001b[1;33m         \u001b[1;32mreturn\u001b[0m \u001b[0mself\u001b[0m\u001b[1;33m.\u001b[0m\u001b[0m_get_page\u001b[0m\u001b[1;33m(\u001b[0m\u001b[0mpageNumber\u001b[0m\u001b[1;33m)\u001b[0m\u001b[1;33m\u001b[0m\u001b[1;33m\u001b[0m\u001b[0m\n\u001b[0m\u001b[0;32m    478\u001b[0m \u001b[1;33m\u001b[0m\u001b[0m\n\u001b[0;32m    479\u001b[0m     \u001b[1;32mdef\u001b[0m \u001b[0m_get_page\u001b[0m\u001b[1;33m(\u001b[0m\u001b[0mself\u001b[0m\u001b[1;33m,\u001b[0m \u001b[0mpage_number\u001b[0m\u001b[1;33m:\u001b[0m \u001b[0mint\u001b[0m\u001b[1;33m)\u001b[0m \u001b[1;33m->\u001b[0m \u001b[0mPageObject\u001b[0m\u001b[1;33m:\u001b[0m\u001b[1;33m\u001b[0m\u001b[1;33m\u001b[0m\u001b[0m\n",
      "\u001b[1;32m~\\anaconda3\\envs\\mlenv\\lib\\site-packages\\PyPDF2\\_reader.py\u001b[0m in \u001b[0;36m_get_page\u001b[1;34m(self, page_number)\u001b[0m\n\u001b[0;32m    490\u001b[0m             \u001b[0mself\u001b[0m\u001b[1;33m.\u001b[0m\u001b[0m_flatten\u001b[0m\u001b[1;33m(\u001b[0m\u001b[1;33m)\u001b[0m\u001b[1;33m\u001b[0m\u001b[1;33m\u001b[0m\u001b[0m\n\u001b[0;32m    491\u001b[0m         \u001b[1;32massert\u001b[0m \u001b[0mself\u001b[0m\u001b[1;33m.\u001b[0m\u001b[0mflattened_pages\u001b[0m \u001b[1;32mis\u001b[0m \u001b[1;32mnot\u001b[0m \u001b[1;32mNone\u001b[0m\u001b[1;33m,\u001b[0m \u001b[1;34m\"hint for mypy\"\u001b[0m\u001b[1;33m\u001b[0m\u001b[1;33m\u001b[0m\u001b[0m\n\u001b[1;32m--> 492\u001b[1;33m         \u001b[1;32mreturn\u001b[0m \u001b[0mself\u001b[0m\u001b[1;33m.\u001b[0m\u001b[0mflattened_pages\u001b[0m\u001b[1;33m[\u001b[0m\u001b[0mpage_number\u001b[0m\u001b[1;33m]\u001b[0m\u001b[1;33m\u001b[0m\u001b[1;33m\u001b[0m\u001b[0m\n\u001b[0m\u001b[0;32m    493\u001b[0m \u001b[1;33m\u001b[0m\u001b[0m\n\u001b[0;32m    494\u001b[0m     \u001b[1;33m@\u001b[0m\u001b[0mproperty\u001b[0m\u001b[1;33m\u001b[0m\u001b[1;33m\u001b[0m\u001b[0m\n",
      "\u001b[1;31mTypeError\u001b[0m: list indices must be integers or slices, not ArrayObject"
     ]
    }
   ],
   "source": [
    "# Create a PdfFileReader object\n",
    "input_pdf = PdfFileReader(file_path)\n",
    "# Create PdfFileWriter\n",
    "pdf_writer = PdfFileWriter()\n",
    "\n",
    "# Get the text from pages with spells\n",
    "for page in spells_pages:\n",
    "    page_oj = input_pdf.getPage(page)\n",
    "    pdf_writer.addPage(page_oj)\n",
    "    \n",
    "# Save pages as PDF\n",
    "with Path(\"spells_pages.pdf\").open(mode=\"wb\") as output_file_2:\n",
    "    pdf_writer.write(output_file_2)"
   ]
  },
  {
   "cell_type": "code",
   "execution_count": null,
   "id": "337af926",
   "metadata": {},
   "outputs": [],
   "source": []
  }
 ],
 "metadata": {
  "kernelspec": {
   "display_name": "mlenv",
   "language": "python",
   "name": "mlenv"
  },
  "language_info": {
   "codemirror_mode": {
    "name": "ipython",
    "version": 3
   },
   "file_extension": ".py",
   "mimetype": "text/x-python",
   "name": "python",
   "nbconvert_exporter": "python",
   "pygments_lexer": "ipython3",
   "version": "3.7.13"
  }
 },
 "nbformat": 4,
 "nbformat_minor": 5
}
