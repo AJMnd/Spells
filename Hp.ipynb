{
 "cells": [
  {
   "cell_type": "code",
   "execution_count": 1,
   "id": "b9ac0185",
   "metadata": {},
   "outputs": [],
   "source": [
    "import pandas as pd\n",
    "from PyPDF2 import PdfFileReader, PdfFileWriter\n",
    "import os\n",
    "from pathlib import Path"
   ]
  },
  {
   "cell_type": "code",
   "execution_count": 2,
   "id": "33437aab",
   "metadata": {},
   "outputs": [],
   "source": [
    "# Create pdf file reader object\n",
    "file_path =\"Resources/potter2.pdf\"\n",
    "pdf = PdfFileReader(file_path)"
   ]
  },
  {
   "cell_type": "code",
   "execution_count": 3,
   "id": "da5cbd17",
   "metadata": {},
   "outputs": [
    {
     "name": "stdout",
     "output_type": "stream",
     "text": [
      "{'/Type': '/Page', '/Parent': IndirectObject(5, 0, 3000076102472), '/Resources': IndirectObject(6, 0, 3000076102472), '/Contents': IndirectObject(2, 0, 3000076102472), '/MediaBox': [0, 0, 612, 792]}\n"
     ]
    }
   ],
   "source": [
    "# two steps to extract text\n",
    "# Step 1: Grab the page(s)\n",
    "pg_1_ob = pdf.getPage(1)\n",
    "print(pg_1_ob)"
   ]
  },
  {
   "cell_type": "code",
   "execution_count": 4,
   "id": "11d6067b",
   "metadata": {},
   "outputs": [
    {
     "name": "stdout",
     "output_type": "stream",
     "text": [
      "FADE IN:1EXT. PRIVET DRIVE - DAY1WIDE HELICOPTER SHOT.  Privet Drive.  CAMERA CRANES DOWN,DOWN, OVER the rooftops, FINDS the SECOND FLOOR WINDOW ofNUMBER 4.  HARRY POTTER sits in the window.2OMITTED23INT. HARRY'S BEDROOM - DAY3Harry pages through a SCRAPBOOK, stops on a MOVING PHOTOof Ron and Hermione.  SQUAWK!  Harry jumps.  HEDWIG pecksat the LOCK slung through her cage door, then glowers atHarry.HARRYI can't, Hedwig.  I'm not allowedto use magic outside of school.Besides, if Uncle Vernon --At the sound of the name, HEDWIG SQUAWKS again, LOUDER.UNCLE VERNON (O.S.)Har-ry Pot-ter!HARRYNow you've done it.4INT. KITCHEN - DAY4While AUNT PETUNIA puts the finishing touches to aPUDDING of WHIPPED CREAM and SUGARED VIOLETS, UNCLEVERNON struggles with DUDLEY'S BOW TIE, all the whileglowering at Harry.UNCLE VERNONI warned you.  If you can'tcontrol that bloody bird, it'llhave to go.HARRYShe's bored.  If I could just lether out for an hour or two --UNCLE VERNONAnd have you sending secretmessages to your freaky littlefriends?  No, sir.(CONTINUED)\n"
     ]
    }
   ],
   "source": [
    "# Step 2: Extract Text\n",
    "pg_1_txt = pg_1_ob.extractText()\n",
    "print(pg_1_txt)"
   ]
  },
  {
   "cell_type": "code",
   "execution_count": 5,
   "id": "a1f9955e",
   "metadata": {},
   "outputs": [],
   "source": [
    "# Combine the text from all of the pages and save as a txt file\n",
    "with Path(\"potter2.txt\").open(mode=\"w\") as output_file:\n",
    "    text = ''\n",
    "    for page in pdf.pages:\n",
    "        text += page.extractText()\n",
    "    output_file.write(text)"
   ]
  },
  {
   "cell_type": "code",
   "execution_count": 6,
   "id": "9a27655b",
   "metadata": {},
   "outputs": [
    {
     "name": "stdout",
     "output_type": "stream",
     "text": [
      "[[0, 0, 612, 792], [0, 0, 612, 792], [0, 0, 612, 792], [0, 0, 612, 792], [0, 0, 612, 792], [0, 0, 612, 792], [0, 0, 612, 792], [0, 0, 612, 792], [0, 0, 612, 792], [0, 0, 612, 792], [0, 0, 612, 792]]\n"
     ]
    }
   ],
   "source": [
    "# Where are the spells?\n",
    "spells_pages = []\n",
    "for page in pdf.pages:\n",
    "    page_num = page['/MediaBox'] #if you want to see the actual page number +1\n",
    "    page_text = page.extractText()\n",
    "    \n",
    "    if 'spell' in page_text: # page_text.find('spell') for index position of spell\n",
    "        spells_pages.append(page_num)\n",
    "        \n",
    "print(spells_pages)"
   ]
  },
  {
   "cell_type": "code",
   "execution_count": 7,
   "id": "3fb68c65",
   "metadata": {},
   "outputs": [
    {
     "ename": "TypeError",
     "evalue": "list indices must be integers or slices, not ArrayObject",
     "output_type": "error",
     "traceback": [
      "\u001b[1;31m---------------------------------------------------------------------------\u001b[0m",
      "\u001b[1;31mTypeError\u001b[0m                                 Traceback (most recent call last)",
      "\u001b[1;32m~\\AppData\\Local\\Temp\\ipykernel_9368\\352877320.py\u001b[0m in \u001b[0;36m<module>\u001b[1;34m\u001b[0m\n\u001b[0;32m      6\u001b[0m \u001b[1;31m# Get the text from pages with spells\u001b[0m\u001b[1;33m\u001b[0m\u001b[1;33m\u001b[0m\u001b[1;33m\u001b[0m\u001b[0m\n\u001b[0;32m      7\u001b[0m \u001b[1;32mfor\u001b[0m \u001b[0mpage\u001b[0m \u001b[1;32min\u001b[0m \u001b[0mspells_pages\u001b[0m\u001b[1;33m:\u001b[0m\u001b[1;33m\u001b[0m\u001b[1;33m\u001b[0m\u001b[0m\n\u001b[1;32m----> 8\u001b[1;33m     \u001b[0mpage_oj\u001b[0m \u001b[1;33m=\u001b[0m \u001b[0minput_pdf\u001b[0m\u001b[1;33m.\u001b[0m\u001b[0mgetPage\u001b[0m\u001b[1;33m(\u001b[0m\u001b[0mpage\u001b[0m\u001b[1;33m)\u001b[0m\u001b[1;33m\u001b[0m\u001b[1;33m\u001b[0m\u001b[0m\n\u001b[0m\u001b[0;32m      9\u001b[0m     \u001b[0mpdf_writer\u001b[0m\u001b[1;33m.\u001b[0m\u001b[0maddPage\u001b[0m\u001b[1;33m(\u001b[0m\u001b[0mpage_oj\u001b[0m\u001b[1;33m)\u001b[0m\u001b[1;33m\u001b[0m\u001b[1;33m\u001b[0m\u001b[0m\n\u001b[0;32m     10\u001b[0m \u001b[1;33m\u001b[0m\u001b[0m\n",
      "\u001b[1;32m~\\anaconda3\\envs\\mlenv\\lib\\site-packages\\PyPDF2\\_reader.py\u001b[0m in \u001b[0;36mgetPage\u001b[1;34m(self, pageNumber)\u001b[0m\n\u001b[0;32m    475\u001b[0m             \u001b[1;34m\"reader.getPage(pageNumber)\"\u001b[0m\u001b[1;33m,\u001b[0m \u001b[1;34m\"reader.pages[pageNumber]\"\u001b[0m\u001b[1;33m\u001b[0m\u001b[1;33m\u001b[0m\u001b[0m\n\u001b[0;32m    476\u001b[0m         )\n\u001b[1;32m--> 477\u001b[1;33m         \u001b[1;32mreturn\u001b[0m \u001b[0mself\u001b[0m\u001b[1;33m.\u001b[0m\u001b[0m_get_page\u001b[0m\u001b[1;33m(\u001b[0m\u001b[0mpageNumber\u001b[0m\u001b[1;33m)\u001b[0m\u001b[1;33m\u001b[0m\u001b[1;33m\u001b[0m\u001b[0m\n\u001b[0m\u001b[0;32m    478\u001b[0m \u001b[1;33m\u001b[0m\u001b[0m\n\u001b[0;32m    479\u001b[0m     \u001b[1;32mdef\u001b[0m \u001b[0m_get_page\u001b[0m\u001b[1;33m(\u001b[0m\u001b[0mself\u001b[0m\u001b[1;33m,\u001b[0m \u001b[0mpage_number\u001b[0m\u001b[1;33m:\u001b[0m \u001b[0mint\u001b[0m\u001b[1;33m)\u001b[0m \u001b[1;33m->\u001b[0m \u001b[0mPageObject\u001b[0m\u001b[1;33m:\u001b[0m\u001b[1;33m\u001b[0m\u001b[1;33m\u001b[0m\u001b[0m\n",
      "\u001b[1;32m~\\anaconda3\\envs\\mlenv\\lib\\site-packages\\PyPDF2\\_reader.py\u001b[0m in \u001b[0;36m_get_page\u001b[1;34m(self, page_number)\u001b[0m\n\u001b[0;32m    490\u001b[0m             \u001b[0mself\u001b[0m\u001b[1;33m.\u001b[0m\u001b[0m_flatten\u001b[0m\u001b[1;33m(\u001b[0m\u001b[1;33m)\u001b[0m\u001b[1;33m\u001b[0m\u001b[1;33m\u001b[0m\u001b[0m\n\u001b[0;32m    491\u001b[0m         \u001b[1;32massert\u001b[0m \u001b[0mself\u001b[0m\u001b[1;33m.\u001b[0m\u001b[0mflattened_pages\u001b[0m \u001b[1;32mis\u001b[0m \u001b[1;32mnot\u001b[0m \u001b[1;32mNone\u001b[0m\u001b[1;33m,\u001b[0m \u001b[1;34m\"hint for mypy\"\u001b[0m\u001b[1;33m\u001b[0m\u001b[1;33m\u001b[0m\u001b[0m\n\u001b[1;32m--> 492\u001b[1;33m         \u001b[1;32mreturn\u001b[0m \u001b[0mself\u001b[0m\u001b[1;33m.\u001b[0m\u001b[0mflattened_pages\u001b[0m\u001b[1;33m[\u001b[0m\u001b[0mpage_number\u001b[0m\u001b[1;33m]\u001b[0m\u001b[1;33m\u001b[0m\u001b[1;33m\u001b[0m\u001b[0m\n\u001b[0m\u001b[0;32m    493\u001b[0m \u001b[1;33m\u001b[0m\u001b[0m\n\u001b[0;32m    494\u001b[0m     \u001b[1;33m@\u001b[0m\u001b[0mproperty\u001b[0m\u001b[1;33m\u001b[0m\u001b[1;33m\u001b[0m\u001b[0m\n",
      "\u001b[1;31mTypeError\u001b[0m: list indices must be integers or slices, not ArrayObject"
     ]
    }
   ],
   "source": [
    "# Create a PdfFileReader object\n",
    "input_pdf = PdfFileReader(file_path)\n",
    "# Create PdfFileWriter\n",
    "pdf_writer = PdfFileWriter()\n",
    "\n",
    "# Get the text from pages with spells\n",
    "for page in spells_pages:\n",
    "    page_oj = input_pdf.getPage(page)\n",
    "    pdf_writer.addPage(page_oj)\n",
    "    \n",
    "# Save pages as PDF\n",
    "with Path(\"spells_pages.pdf\").open(mode=\"wb\") as output_file_2:\n",
    "    pdf_writer.write(output_file_2)"
   ]
  },
  {
   "cell_type": "code",
   "execution_count": null,
   "id": "337af926",
   "metadata": {},
   "outputs": [],
   "source": []
  }
 ],
 "metadata": {
  "kernelspec": {
   "display_name": "mlenv",
   "language": "python",
   "name": "mlenv"
  },
  "language_info": {
   "codemirror_mode": {
    "name": "ipython",
    "version": 3
   },
   "file_extension": ".py",
   "mimetype": "text/x-python",
   "name": "python",
   "nbconvert_exporter": "python",
   "pygments_lexer": "ipython3",
   "version": "3.7.13"
  }
 },
 "nbformat": 4,
 "nbformat_minor": 5
}
